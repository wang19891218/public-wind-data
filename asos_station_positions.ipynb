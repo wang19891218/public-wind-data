{
 "cells": [
  {
   "cell_type": "markdown",
   "id": "worse-weight",
   "metadata": {},
   "source": [
    "# Get station data"
   ]
  },
  {
   "cell_type": "code",
   "execution_count": 1,
   "id": "faced-omaha",
   "metadata": {},
   "outputs": [],
   "source": [
    "from urllib.request import urlopen\n",
    "from bs4 import BeautifulSoup\n",
    "from tqdm import tqdm\n",
    "import os\n",
    "import csv\n",
    "import re"
   ]
  },
  {
   "cell_type": "markdown",
   "id": "everyday-antigua",
   "metadata": {},
   "source": [
    "## Get states"
   ]
  },
  {
   "cell_type": "code",
   "execution_count": 2,
   "id": "outdoor-sympathy",
   "metadata": {},
   "outputs": [],
   "source": [
    "url = \"https://www.faa.gov/air_traffic/weather/asos/\"\n",
    "html = urlopen(url).read()\n",
    "soup = BeautifulSoup(html, features=\"html.parser\")\n",
    "state_options = soup.find_all(\"select\", {\"id\": \"state\"});\n",
    "str_state_options = str(state_options)\n",
    "\n",
    "list_sate_options = re.findall('<option value=\\\"[A-Z]{2}\\\">.*\\(.*\\)<', str_state_options)\n",
    "\n",
    "dict_states = {}\n",
    "for str_state_option in list_sate_options:\n",
    "    temp_int_start_1 = len('<option value=') + 1\n",
    "    temp_int_start_2 = len('<option value=') + 5\n",
    "    temp_int_stop_2 = len(str_state_option) - 7\n",
    "    dict_states[str_state_option[temp_int_start_1: temp_int_start_1 + 2]] \\\n",
    "        = {\"full_name\":  str_state_option[temp_int_start_2: temp_int_stop_2]}\n",
    "# state_options\n",
    "\n",
    "list_abbreviations = list(dict_states.keys())\n",
    "\n",
    "list_station_dict_key = ['city', \n",
    "'county', \n",
    "'latitude', \n",
    "'longitude', \n",
    "'stateabbreviation', \n",
    "'weatherstationairportid', \n",
    "'weatherstationfrequency', \n",
    "'weatherstationphone', \n",
    "'weatherstationtype', \n",
    "'weatherstationurl']\n",
    "\n",
    "list_abbreviations.sort()"
   ]
  },
  {
   "cell_type": "markdown",
   "id": "usual-middle",
   "metadata": {},
   "source": [
    "## Get station for each state"
   ]
  },
  {
   "cell_type": "code",
   "execution_count": 4,
   "id": "unable-private",
   "metadata": {},
   "outputs": [
    {
     "name": "stderr",
     "output_type": "stream",
     "text": [
      "Loading...: 100%|██████████| 56/56 [00:12<00:00,  4.47it/s]\n"
     ]
    }
   ],
   "source": [
    "i_count = 0\n",
    "# for str_state_option in list_abbreviations:\n",
    "for str_state_option in tqdm (list_abbreviations, desc=\"Loading...\"):\n",
    "    i_count += 1\n",
    "    # print(\"Working on {}\".format(str_state_option))\n",
    "    str_single_state_url = \"https://www.faa.gov/air_traffic/weather/asos/?state={}\".format(str_state_option)\n",
    "    html_single_state = urlopen(str_single_state_url).read()\n",
    "    soup_single_state = BeautifulSoup(html_single_state, features=\"html.parser\")\n",
    "    list_str_singel_page = str(soup_single_state).split('\\n')\n",
    "    list_station_info = []\n",
    "\n",
    "    for i_line in range(len(list_str_singel_page)):\n",
    "        temp_str = list_str_singel_page[i_line]\n",
    "        if temp_str.startswith('mInfo.city = '):\n",
    "            temp_dict_station_info = {}\n",
    "            # print(list_str_singel_page[i_line + 0])\n",
    "            for i_key in range(len(list_station_dict_key)):\n",
    "                list_match = re.findall(\"\\\".*\\\"\", list_str_singel_page[i_line + i_key])\n",
    "                if len(list_match) == 1:\n",
    "                    temp_dict_station_info[list_station_dict_key[i_key]] \\\n",
    "                    = list_match[0][1:-1]\n",
    "            list_station_info.append(temp_dict_station_info)\n",
    "\n",
    "    dict_states[str_state_option]['stations'] = list_station_info"
   ]
  },
  {
   "cell_type": "markdown",
   "id": "affiliated-showcase",
   "metadata": {},
   "source": [
    "##  Get station types"
   ]
  },
  {
   "cell_type": "code",
   "execution_count": 5,
   "id": "excellent-check",
   "metadata": {},
   "outputs": [],
   "source": [
    "list_station_type = []\n",
    "dict_station_type_count = {}\n",
    "for str_state_key in dict_states:\n",
    "    for i_station in range(len(dict_states[str_state_key]['stations'])):\n",
    "        str_station_type = dict_states[str_state_key]['stations'][i_station]['weatherstationtype'].replace('/','_')\n",
    "        if str_station_type in list_station_type:\n",
    "            dict_station_type_count[str_station_type] += 1\n",
    "        else:\n",
    "            list_station_type.append(str_station_type)\n",
    "            dict_station_type_count[str_station_type] = 1"
   ]
  },
  {
   "cell_type": "markdown",
   "id": "peripheral-success",
   "metadata": {},
   "source": [
    "# Export station location data"
   ]
  },
  {
   "cell_type": "code",
   "execution_count": 21,
   "id": "accomplished-indicator",
   "metadata": {},
   "outputs": [],
   "source": [
    "# Clear existing data\n",
    "temp_list_files = os.listdir(\"data\")\n",
    "for str_filename in temp_list_files:\n",
    "    if str_filename.startswith(\"ASOS_station_\"):\n",
    "        print(\"Deleting\", str_filename)\n",
    "        os.remove(\"data/\" +  str_filename)"
   ]
  },
  {
   "cell_type": "markdown",
   "id": "laden-myrtle",
   "metadata": {},
   "source": [
    "## Export all station by part "
   ]
  },
  {
   "cell_type": "code",
   "execution_count": 22,
   "id": "parallel-packaging",
   "metadata": {},
   "outputs": [],
   "source": [
    "fieldnames = ['latitude', 'longitude', 'weatherstationtype', 'weatherstationurl', 'weatherstationairportid', 'state']"
   ]
  },
  {
   "cell_type": "code",
   "execution_count": 26,
   "id": "intermediate-radio",
   "metadata": {},
   "outputs": [
    {
     "name": "stdout",
     "output_type": "stream",
     "text": [
      "open_new_file\n"
     ]
    }
   ],
   "source": [
    "i_part = 0\n",
    "i_count = 0\n",
    "csvfile = open('data/ASOS_station_part_{}.csv'.format(i_part), 'w', newline='')\n",
    "\n",
    "writer = csv.DictWriter(csvfile, fieldnames=fieldnames)\n",
    "writer.writeheader()\n",
    "for str_state_key in dict_states:\n",
    "    # print('State:', str_state_key)\n",
    "    for i_station in range(len(dict_states[str_state_key]['stations'])):\n",
    "        # print('Station:', dict_states[str_state_key]['stations'][i_station]['weatherstationairportid'])\n",
    "        str_station_type = dict_states[str_state_key]['stations'][i_station]['weatherstationtype'].replace('/','_')\n",
    "        writer.writerow({\n",
    "        'latitude': dict_states[str_state_key]['stations'][i_station]['latitude'], \n",
    "        'longitude': dict_states[str_state_key]['stations'][i_station]['longitude'], \n",
    "        'weatherstationtype': str_station_type,\n",
    "        'weatherstationurl':  dict_states[str_state_key]['stations'][i_station]['weatherstationurl'],\n",
    "        'weatherstationairportid': dict_states[str_state_key]['stations'][i_station]['weatherstationairportid'],\n",
    "        \"state\": str_state_key\n",
    "        })\n",
    "        i_count += 1\n",
    "        if i_count > 1500: # Google map limit\n",
    "            i_part +=1 \n",
    "            i_count = 0\n",
    "            csvfile.close()\n",
    "            csvfile = open('data/ASOS_station_part_{}.csv'.format(i_part), 'w', newline='')\n",
    "            writer = csv.DictWriter(csvfile, fieldnames=fieldnames)\n",
    "            writer.writeheader()\n",
    "            print('open_new_file')\n",
    "\n",
    "csvfile.close()\n"
   ]
  },
  {
   "cell_type": "markdown",
   "id": "champion-pixel",
   "metadata": {},
   "source": [
    "## Export all station by station type"
   ]
  },
  {
   "cell_type": "code",
   "execution_count": 27,
   "id": "racial-place",
   "metadata": {},
   "outputs": [],
   "source": [
    "for str_target_station_type in list_station_type:\n",
    "    with open('data/ASOS_station_{}.csv'.format(str_target_station_type), 'w', newline='') as csvfile:\n",
    "        writer = csv.DictWriter(csvfile, fieldnames=fieldnames)\n",
    "        writer.writeheader()\n",
    "        for str_state_key in dict_states:\n",
    "            # print('State:', str_state_key)\n",
    "            for i_station in range(len(dict_states[str_state_key]['stations'])):\n",
    "                # print('Station:', dict_states[str_state_key]['stations'][i_station]['weatherstationairportid'])\n",
    "                str_station_type = dict_states[str_state_key]['stations'][i_station]['weatherstationtype'].replace('/','_')\n",
    "                if str_target_station_type == str_station_type:\n",
    "                    writer.writerow({\n",
    "                    'latitude': dict_states[str_state_key]['stations'][i_station]['latitude'], \n",
    "                    'longitude': dict_states[str_state_key]['stations'][i_station]['longitude'], \n",
    "                    'weatherstationtype': str_station_type,\n",
    "                    'weatherstationurl':  dict_states[str_state_key]['stations'][i_station]['weatherstationurl'],\n",
    "                    'weatherstationairportid': dict_states[str_state_key]['stations'][i_station]['weatherstationairportid'],\n",
    "                    \"state\": str_state_key\n",
    "                    })\n"
   ]
  }
 ],
 "metadata": {
  "kernelspec": {
   "display_name": "hazard_curve",
   "language": "python",
   "name": "project_env_hazard_curve"
  },
  "language_info": {
   "codemirror_mode": {
    "name": "ipython",
    "version": 3
   },
   "file_extension": ".py",
   "mimetype": "text/x-python",
   "name": "python",
   "nbconvert_exporter": "python",
   "pygments_lexer": "ipython3",
   "version": "3.8.5"
  },
  "toc-autonumbering": true
 },
 "nbformat": 4,
 "nbformat_minor": 5
}
